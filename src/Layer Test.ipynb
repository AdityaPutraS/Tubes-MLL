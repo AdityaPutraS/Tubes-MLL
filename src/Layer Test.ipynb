{
 "cells": [
  {
   "cell_type": "code",
   "execution_count": 1,
   "metadata": {},
   "outputs": [],
   "source": [
    "import os\n",
    "import cv2\n",
    "import numpy as np\n",
    "\n",
    "from sequential import Sequential\n",
    "\n",
    "from conv2d import Conv2D\n",
    "from pooling2d import Pooling2D\n",
    "from flatten import Flatten\n",
    "from dense import Dense"
   ]
  },
  {
   "cell_type": "code",
   "execution_count": 2,
   "metadata": {},
   "outputs": [],
   "source": [
    "image_size = (100, 100)"
   ]
  },
  {
   "cell_type": "code",
   "execution_count": 3,
   "metadata": {},
   "outputs": [],
   "source": [
    "def readImage(path):\n",
    "    result = []\n",
    "    images = os.listdir(path)\n",
    "    print(images)\n",
    "    for image in images:\n",
    "        result.append(cv2.resize(cv2.imread(path + '/' + image, 1), image_size))\n",
    "    return np.array(result)"
   ]
  },
  {
   "cell_type": "code",
   "execution_count": 4,
   "metadata": {},
   "outputs": [
    {
     "name": "stdout",
     "output_type": "stream",
     "text": [
      "['cat.0.jpg', 'cat.15.jpg', 'cat.17.jpg', 'cat.19.jpg', 'cat.2.jpg', 'cat.21.jpg', 'cat.23.jpg', 'cat.26.jpg', 'cat.36.jpg', 'cat.38.jpg', 'cat.40.jpg', 'cat.45.jpg', 'cat.48.jpg', 'cat.49.jpg', 'cat.50.jpg', 'cat.58.jpg', 'cat.60.jpg', 'cat.61.jpg', 'cat.71.jpg', 'cat.9.jpg']\n"
     ]
    }
   ],
   "source": [
    "cats = readImage(\"../data/cats\")"
   ]
  },
  {
   "cell_type": "code",
   "execution_count": 5,
   "metadata": {},
   "outputs": [
    {
     "name": "stdout",
     "output_type": "stream",
     "text": [
      "['dog.0.jpg', 'dog.24.jpg', 'dog.25.jpg', 'dog.3.jpg', 'dog.30.jpg', 'dog.34.jpg', 'dog.36.jpg', 'dog.38.jpg', 'dog.4.jpg', 'dog.40.jpg', 'dog.42.jpg', 'dog.5.jpg', 'dog.50.jpg', 'dog.51.jpg', 'dog.58.jpg', 'dog.60.jpg', 'dog.61.jpg', 'dog.63.jpg', 'dog.8.jpg', 'dog.9.jpg']\n"
     ]
    }
   ],
   "source": [
    "dogs = readImage(\"../data/dogs\")"
   ]
  },
  {
   "cell_type": "code",
   "execution_count": 6,
   "metadata": {},
   "outputs": [],
   "source": [
    "data = np.concatenate((cats, dogs))"
   ]
  },
  {
   "cell_type": "code",
   "execution_count": 7,
   "metadata": {},
   "outputs": [
    {
     "data": {
      "text/plain": [
       "(40, 100, 100, 3)"
      ]
     },
     "execution_count": 7,
     "metadata": {},
     "output_type": "execute_result"
    }
   ],
   "source": [
    "data.shape"
   ]
  },
  {
   "cell_type": "code",
   "execution_count": 58,
   "metadata": {},
   "outputs": [],
   "source": [
    "model = Sequential()\n",
    "\n",
    "model.add(Conv2D(1, (2, 2), pad=1, stride=32, input_shape=(data.shape[1], data.shape[2], data.shape[3]), activation='relu'))\n",
    "model.add(Pooling2D((2, 2), stride=1))\n",
    "model.add(Flatten())"
   ]
  },
  {
   "cell_type": "code",
   "execution_count": 59,
   "metadata": {},
   "outputs": [],
   "source": [
    "pred = model.forward(data[0:4])"
   ]
  },
  {
   "cell_type": "code",
   "execution_count": 60,
   "metadata": {
    "scrolled": true
   },
   "outputs": [
    {
     "data": {
      "text/plain": [
       "array([[[[ 888.96017506],\n",
       "         [ 921.56697817],\n",
       "         [1340.33926548]],\n",
       "\n",
       "        [[ 888.96017506],\n",
       "         [ 888.96017506],\n",
       "         [1340.33926548]],\n",
       "\n",
       "        [[ 471.9702447 ],\n",
       "         [ 496.00457371],\n",
       "         [ 496.00457371]]],\n",
       "\n",
       "\n",
       "       [[[ 826.33939084],\n",
       "         [ 833.73655748],\n",
       "         [ 833.73655748]],\n",
       "\n",
       "        [[ 826.33939084],\n",
       "         [ 982.68290045],\n",
       "         [ 982.68290045]],\n",
       "\n",
       "        [[ 644.93982659],\n",
       "         [ 982.68290045],\n",
       "         [ 982.68290045]]],\n",
       "\n",
       "\n",
       "       [[[ 462.86723569],\n",
       "         [ 462.86723569],\n",
       "         [ 412.77703317]],\n",
       "\n",
       "        [[1175.06626485],\n",
       "         [1471.96925704],\n",
       "         [1471.96925704]],\n",
       "\n",
       "        [[1175.06626485],\n",
       "         [1471.96925704],\n",
       "         [1471.96925704]]],\n",
       "\n",
       "\n",
       "       [[[ 924.24881314],\n",
       "         [1033.20010047],\n",
       "         [1033.20010047]],\n",
       "\n",
       "        [[ 556.25317444],\n",
       "         [1033.20010047],\n",
       "         [1033.20010047]],\n",
       "\n",
       "        [[ 457.24556189],\n",
       "         [ 457.24556189],\n",
       "         [1007.47444357]]]])"
      ]
     },
     "execution_count": 60,
     "metadata": {},
     "output_type": "execute_result"
    }
   ],
   "source": [
    "pred"
   ]
  },
  {
   "cell_type": "code",
   "execution_count": null,
   "metadata": {},
   "outputs": [],
   "source": []
  }
 ],
 "metadata": {
  "kernelspec": {
   "display_name": "Python 3",
   "language": "python",
   "name": "python3"
  },
  "language_info": {
   "codemirror_mode": {
    "name": "ipython",
    "version": 3
   },
   "file_extension": ".py",
   "mimetype": "text/x-python",
   "name": "python",
   "nbconvert_exporter": "python",
   "pygments_lexer": "ipython3",
   "version": "3.6.7"
  }
 },
 "nbformat": 4,
 "nbformat_minor": 4
}

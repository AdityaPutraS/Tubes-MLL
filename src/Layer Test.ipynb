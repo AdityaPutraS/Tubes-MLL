{
 "cells": [
  {
   "cell_type": "code",
   "execution_count": 1,
   "metadata": {},
   "outputs": [],
   "source": [
    "import os\n",
    "import cv2\n",
    "import numpy as np\n",
    "\n",
    "from sequential import Sequential\n",
    "\n",
    "from conv2d import Conv2D\n",
    "from pooling2d import Pooling2D\n",
    "from flatten import Flatten\n",
    "from dense import Dense"
   ]
  },
  {
   "cell_type": "code",
   "execution_count": 2,
   "metadata": {},
   "outputs": [],
   "source": [
    "np.random.seed(13517013)"
   ]
  },
  {
   "cell_type": "code",
   "execution_count": 3,
   "metadata": {},
   "outputs": [],
   "source": [
    "image_size = (100, 100)"
   ]
  },
  {
   "cell_type": "code",
   "execution_count": 4,
   "metadata": {},
   "outputs": [],
   "source": [
    "def readImage(path):\n",
    "    result = []\n",
    "    images = os.listdir(path)\n",
    "    print(images)\n",
    "    for image in images:\n",
    "        result.append(cv2.resize(cv2.imread(path + '/' + image, 1), image_size))\n",
    "    return np.array(result)"
   ]
  },
  {
   "cell_type": "code",
   "execution_count": 5,
   "metadata": {},
   "outputs": [
    {
     "name": "stdout",
     "output_type": "stream",
     "text": [
      "['cat.0.jpg', 'cat.15.jpg', 'cat.17.jpg', 'cat.19.jpg', 'cat.2.jpg', 'cat.21.jpg', 'cat.23.jpg', 'cat.26.jpg', 'cat.36.jpg', 'cat.38.jpg', 'cat.40.jpg', 'cat.45.jpg', 'cat.48.jpg', 'cat.49.jpg', 'cat.50.jpg', 'cat.58.jpg', 'cat.60.jpg', 'cat.61.jpg', 'cat.71.jpg', 'cat.9.jpg']\n"
     ]
    }
   ],
   "source": [
    "cats = readImage(\"../data/cats\")"
   ]
  },
  {
   "cell_type": "code",
   "execution_count": 6,
   "metadata": {},
   "outputs": [
    {
     "name": "stdout",
     "output_type": "stream",
     "text": [
      "['dog.0.jpg', 'dog.24.jpg', 'dog.25.jpg', 'dog.3.jpg', 'dog.30.jpg', 'dog.34.jpg', 'dog.36.jpg', 'dog.38.jpg', 'dog.4.jpg', 'dog.40.jpg', 'dog.42.jpg', 'dog.5.jpg', 'dog.50.jpg', 'dog.51.jpg', 'dog.58.jpg', 'dog.60.jpg', 'dog.61.jpg', 'dog.63.jpg', 'dog.8.jpg', 'dog.9.jpg']\n"
     ]
    }
   ],
   "source": [
    "dogs = readImage(\"../data/dogs\")"
   ]
  },
  {
   "cell_type": "code",
   "execution_count": 7,
   "metadata": {},
   "outputs": [],
   "source": [
    "data = np.concatenate((cats, dogs))\n",
    "np.random.shuffle(data)"
   ]
  },
  {
   "cell_type": "code",
   "execution_count": 17,
   "metadata": {
    "scrolled": false
   },
   "outputs": [],
   "source": [
    "model = Sequential()\n",
    "\n",
    "model.add(Conv2D(1, (2, 2), pad=1, stride=10, input_shape=(data.shape[1], data.shape[2], data.shape[3]), activation='relu'))\n",
    "model.add(Pooling2D((2, 2), stride=1))\n",
    "model.add(Flatten())\n",
    "model.add(Dense(2, activation = 'relu'))"
   ]
  },
  {
   "cell_type": "code",
   "execution_count": 18,
   "metadata": {
    "scrolled": false
   },
   "outputs": [],
   "source": [
    "pred = model.forward(data)"
   ]
  },
  {
   "cell_type": "code",
   "execution_count": 19,
   "metadata": {
    "scrolled": true
   },
   "outputs": [
    {
     "data": {
      "text/plain": [
       "array([[   0.        , 1345.74417454],\n",
       "       [ 514.25303446, 2215.79292248],\n",
       "       [ 990.95657915,    0.        ],\n",
       "       [  49.0976891 , 2046.05833322],\n",
       "       [1055.60362404, 1020.8761229 ],\n",
       "       [1586.4135903 ,    0.        ],\n",
       "       [1790.34352912,  140.84882999],\n",
       "       [ 464.50506065, 1096.83694224],\n",
       "       [1457.62406284, 1383.34510779],\n",
       "       [2344.4143377 ,  666.4271064 ],\n",
       "       [ 696.24760789, 2131.39365807],\n",
       "       [2425.42792275,  761.4031443 ],\n",
       "       [2539.88930544,  439.79736289],\n",
       "       [ 760.97164546,  347.89005145],\n",
       "       [ 420.67454837, 1417.5036131 ],\n",
       "       [1927.5221678 , 1768.75797381],\n",
       "       [ 953.67446388,  987.35255733],\n",
       "       [ 902.46485931, 1172.559604  ],\n",
       "       [1258.95413883,  744.37098445],\n",
       "       [2182.66962885, 1817.61689079],\n",
       "       [ 393.33727949, 1971.73702101],\n",
       "       [1490.20732774, 1334.53329128],\n",
       "       [ 560.03776746,    0.        ],\n",
       "       [1595.93025068,  105.3281338 ],\n",
       "       [ 465.42251117, 2180.65518975],\n",
       "       [3404.97841253,    0.        ],\n",
       "       [ 835.69345377, 2618.93396601],\n",
       "       [2236.31993031, 1071.10572783],\n",
       "       [ 377.05600539, 1258.33344213],\n",
       "       [ 960.54258935, 1802.29122695],\n",
       "       [ 719.378448  ,  297.01323576],\n",
       "       [ 800.84865883, 1220.7881955 ],\n",
       "       [1838.04287453,   85.0760912 ],\n",
       "       [1380.10034786, 1284.9549405 ],\n",
       "       [1197.51625697,  383.36122952],\n",
       "       [1292.54409017, 1922.99747943],\n",
       "       [1278.59614864,  616.40742179],\n",
       "       [   0.        , 1445.75396559],\n",
       "       [1123.30623568, 1115.32473506],\n",
       "       [1230.95566598,  833.13940531]])"
      ]
     },
     "execution_count": 19,
     "metadata": {},
     "output_type": "execute_result"
    }
   ],
   "source": [
    "pred"
   ]
  },
  {
   "cell_type": "code",
   "execution_count": null,
   "metadata": {},
   "outputs": [],
   "source": []
  }
 ],
 "metadata": {
  "kernelspec": {
   "display_name": "Python 3",
   "language": "python",
   "name": "python3"
  },
  "language_info": {
   "codemirror_mode": {
    "name": "ipython",
    "version": 3
   },
   "file_extension": ".py",
   "mimetype": "text/x-python",
   "name": "python",
   "nbconvert_exporter": "python",
   "pygments_lexer": "ipython3",
   "version": "3.6.7"
  }
 },
 "nbformat": 4,
 "nbformat_minor": 4
}

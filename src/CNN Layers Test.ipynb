{
 "cells": [
  {
   "cell_type": "code",
   "execution_count": 2,
   "metadata": {},
   "outputs": [],
   "source": [
    "import os\n",
    "import cv2\n",
    "import numpy as np\n",
    "\n",
    "from sequential import Sequential\n",
    "\n",
    "from conv2d import Conv2D\n",
    "from pooling2d import Pooling2D\n",
    "from flatten import Flatten\n",
    "from dense import Dense"
   ]
  },
  {
   "cell_type": "code",
   "execution_count": 3,
   "metadata": {},
   "outputs": [],
   "source": [
    "np.random.seed(13517013)"
   ]
  },
  {
   "cell_type": "code",
   "execution_count": 4,
   "metadata": {},
   "outputs": [],
   "source": [
    "image_size = (100, 100)"
   ]
  },
  {
   "cell_type": "code",
   "execution_count": 5,
   "metadata": {},
   "outputs": [],
   "source": [
    "def readImage(path):\n",
    "    result = []\n",
    "    images = os.listdir(path)\n",
    "    print(images)\n",
    "    for image in images:\n",
    "        result.append(cv2.resize(cv2.imread(path + '/' + image, 1), image_size))\n",
    "    return np.array(result)"
   ]
  },
  {
   "cell_type": "code",
   "execution_count": 6,
   "metadata": {},
   "outputs": [
    {
     "name": "stdout",
     "output_type": "stream",
     "text": [
      "['cat.0.jpg', 'cat.15.jpg', 'cat.17.jpg', 'cat.19.jpg', 'cat.2.jpg', 'cat.21.jpg', 'cat.23.jpg', 'cat.26.jpg', 'cat.36.jpg', 'cat.38.jpg', 'cat.40.jpg', 'cat.45.jpg', 'cat.48.jpg', 'cat.49.jpg', 'cat.50.jpg', 'cat.58.jpg', 'cat.60.jpg', 'cat.61.jpg', 'cat.71.jpg', 'cat.9.jpg']\n"
     ]
    }
   ],
   "source": [
    "cats = readImage(\"../data/cats\")"
   ]
  },
  {
   "cell_type": "code",
   "execution_count": 7,
   "metadata": {},
   "outputs": [
    {
     "name": "stdout",
     "output_type": "stream",
     "text": [
      "['dog.0.jpg', 'dog.24.jpg', 'dog.25.jpg', 'dog.3.jpg', 'dog.30.jpg', 'dog.34.jpg', 'dog.36.jpg', 'dog.38.jpg', 'dog.4.jpg', 'dog.40.jpg', 'dog.42.jpg', 'dog.5.jpg', 'dog.50.jpg', 'dog.51.jpg', 'dog.58.jpg', 'dog.60.jpg', 'dog.61.jpg', 'dog.63.jpg', 'dog.8.jpg', 'dog.9.jpg']\n"
     ]
    }
   ],
   "source": [
    "dogs = readImage(\"../data/dogs\")"
   ]
  },
  {
   "cell_type": "code",
   "execution_count": 21,
   "metadata": {},
   "outputs": [],
   "source": [
    "data = np.concatenate((cats, dogs))\n",
    "np.random.shuffle(data)\n",
    "\n",
    "# scale data / 255\n",
    "data = data / 255"
   ]
  },
  {
   "cell_type": "code",
   "execution_count": 22,
   "metadata": {
    "scrolled": false
   },
   "outputs": [],
   "source": [
    "model = Sequential()\n",
    "\n",
    "model.add(Conv2D(1, (2, 2), pad=1, stride=10, input_shape=(data.shape[1], data.shape[2], data.shape[3]), activation='relu'))\n",
    "model.add(Pooling2D((2, 2), stride=1))\n",
    "model.add(Flatten())\n",
    "model.add(Dense(4, activation='relu'))\n",
    "model.add(Dense(2, activation='relu'))\n",
    "model.add(Dense(1, activation='sigmoid'))"
   ]
  },
  {
   "cell_type": "code",
   "execution_count": 23,
   "metadata": {
    "scrolled": false
   },
   "outputs": [],
   "source": [
    "pred = model.forward(data)"
   ]
  },
  {
   "cell_type": "code",
   "execution_count": 24,
   "metadata": {
    "scrolled": true
   },
   "outputs": [
    {
     "data": {
      "text/plain": [
       "array([[0.59485088],\n",
       "       [0.91398501],\n",
       "       [0.59485088],\n",
       "       [0.59485088],\n",
       "       [0.87698655],\n",
       "       [0.90038842],\n",
       "       [0.59485088],\n",
       "       [0.59485088],\n",
       "       [0.59485088],\n",
       "       [0.59485088],\n",
       "       [0.59881751],\n",
       "       [0.59485088],\n",
       "       [0.59485088],\n",
       "       [0.59485088],\n",
       "       [0.87667973],\n",
       "       [0.86558711],\n",
       "       [0.59485088],\n",
       "       [0.59485088],\n",
       "       [0.59485088],\n",
       "       [0.59485088],\n",
       "       [0.59485088],\n",
       "       [0.59485088],\n",
       "       [0.91617917],\n",
       "       [0.89187118],\n",
       "       [0.88087385],\n",
       "       [0.59485088],\n",
       "       [0.59485088],\n",
       "       [0.83644423],\n",
       "       [0.59485088],\n",
       "       [0.59485088],\n",
       "       [0.59485088],\n",
       "       [0.59485088],\n",
       "       [0.59485088],\n",
       "       [0.92935859],\n",
       "       [0.59485088],\n",
       "       [0.74403434],\n",
       "       [0.59485088],\n",
       "       [0.59485088],\n",
       "       [0.59485088],\n",
       "       [0.92366066]])"
      ]
     },
     "execution_count": 24,
     "metadata": {},
     "output_type": "execute_result"
    }
   ],
   "source": [
    "pred"
   ]
  },
  {
   "cell_type": "code",
   "execution_count": 25,
   "metadata": {},
   "outputs": [
    {
     "data": {
      "text/plain": [
       "(40, 1)"
      ]
     },
     "execution_count": 25,
     "metadata": {},
     "output_type": "execute_result"
    }
   ],
   "source": [
    "pred.shape"
   ]
  }
 ],
 "metadata": {
  "kernelspec": {
   "display_name": "Python 3",
   "language": "python",
   "name": "python3"
  },
  "language_info": {
   "codemirror_mode": {
    "name": "ipython",
    "version": 3
   },
   "file_extension": ".py",
   "mimetype": "text/x-python",
   "name": "python",
   "nbconvert_exporter": "python",
   "pygments_lexer": "ipython3",
   "version": "3.6.7"
  }
 },
 "nbformat": 4,
 "nbformat_minor": 4
}
